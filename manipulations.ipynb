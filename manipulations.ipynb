{
 "metadata": {
  "language_info": {
   "codemirror_mode": {
    "name": "ipython",
    "version": 3
   },
   "file_extension": ".py",
   "mimetype": "text/x-python",
   "name": "python",
   "nbconvert_exporter": "python",
   "pygments_lexer": "ipython3",
   "version": "3.8.5-final"
  },
  "orig_nbformat": 2,
  "kernelspec": {
   "name": "python3",
   "display_name": "Python 3.8.5 64-bit ('base': conda)",
   "metadata": {
    "interpreter": {
     "hash": "1095db1e3693e1baa5ac970ebb0e4cfa34f00341d23cfda9467139357baec0bd"
    }
   }
  }
 },
 "nbformat": 4,
 "nbformat_minor": 2,
 "cells": [
  {
   "source": [
    "## _Import Libraries_"
   ],
   "cell_type": "markdown",
   "metadata": {}
  },
  {
   "cell_type": "code",
   "execution_count": 1,
   "metadata": {},
   "outputs": [],
   "source": [
    "import pandas as pd"
   ]
  },
  {
   "source": [
    "## _Read in the data_"
   ],
   "cell_type": "markdown",
   "metadata": {}
  },
  {
   "cell_type": "code",
   "execution_count": 3,
   "metadata": {},
   "outputs": [
    {
     "output_type": "display_data",
     "data": {
      "text/plain": "         Country  Quality of Life Index  Purchasing Power Index  Safety Index  \\\n0   Switzerland                  190.82                  110.96         78.65   \n1       Denmark                  190.01                   94.73         73.28   \n2   Netherlands                  183.31                   83.89         72.78   \n\n   Health Care Index  Cost of Living Index  Property Price to Income Ratio  \\\n0              74.47                131.75                            8.42   \n1              79.96                 91.67                            6.66   \n2              75.76                 78.64                            7.35   \n\n   Traffic Commute Time Index  Pollution Index  Climate Index  \n0                       28.73            20.09          80.05  \n1                       28.69            20.40          81.80  \n2                       27.81            25.28          87.11  ",
      "text/html": "<div>\n<style scoped>\n    .dataframe tbody tr th:only-of-type {\n        vertical-align: middle;\n    }\n\n    .dataframe tbody tr th {\n        vertical-align: top;\n    }\n\n    .dataframe thead th {\n        text-align: right;\n    }\n</style>\n<table border=\"1\" class=\"dataframe\">\n  <thead>\n    <tr style=\"text-align: right;\">\n      <th></th>\n      <th>Country</th>\n      <th>Quality of Life Index</th>\n      <th>Purchasing Power Index</th>\n      <th>Safety Index</th>\n      <th>Health Care Index</th>\n      <th>Cost of Living Index</th>\n      <th>Property Price to Income Ratio</th>\n      <th>Traffic Commute Time Index</th>\n      <th>Pollution Index</th>\n      <th>Climate Index</th>\n    </tr>\n  </thead>\n  <tbody>\n    <tr>\n      <th>0</th>\n      <td>Switzerland</td>\n      <td>190.82</td>\n      <td>110.96</td>\n      <td>78.65</td>\n      <td>74.47</td>\n      <td>131.75</td>\n      <td>8.42</td>\n      <td>28.73</td>\n      <td>20.09</td>\n      <td>80.05</td>\n    </tr>\n    <tr>\n      <th>1</th>\n      <td>Denmark</td>\n      <td>190.01</td>\n      <td>94.73</td>\n      <td>73.28</td>\n      <td>79.96</td>\n      <td>91.67</td>\n      <td>6.66</td>\n      <td>28.69</td>\n      <td>20.40</td>\n      <td>81.80</td>\n    </tr>\n    <tr>\n      <th>2</th>\n      <td>Netherlands</td>\n      <td>183.31</td>\n      <td>83.89</td>\n      <td>72.78</td>\n      <td>75.76</td>\n      <td>78.64</td>\n      <td>7.35</td>\n      <td>27.81</td>\n      <td>25.28</td>\n      <td>87.11</td>\n    </tr>\n  </tbody>\n</table>\n</div>"
     },
     "metadata": {}
    },
    {
     "output_type": "display_data",
     "data": {
      "text/plain": "         Country  Cost of Living Index  Rent Index  \\\n0       Bermuda                 145.07       92.86   \n1   Switzerland                 131.75       55.05   \n2        Norway                 106.09       36.18   \n\n   Cost of Living Plus Rent Index  Groceries Index  Restaurant Price Index  \\\n0                          120.13           141.77                  157.70   \n1                           95.10           133.36                  126.08   \n2                           72.68           100.59                  105.90   \n\n   Local Purchasing Power Index  \n0                         83.43  \n1                        110.96  \n2                         79.43  ",
      "text/html": "<div>\n<style scoped>\n    .dataframe tbody tr th:only-of-type {\n        vertical-align: middle;\n    }\n\n    .dataframe tbody tr th {\n        vertical-align: top;\n    }\n\n    .dataframe thead th {\n        text-align: right;\n    }\n</style>\n<table border=\"1\" class=\"dataframe\">\n  <thead>\n    <tr style=\"text-align: right;\">\n      <th></th>\n      <th>Country</th>\n      <th>Cost of Living Index</th>\n      <th>Rent Index</th>\n      <th>Cost of Living Plus Rent Index</th>\n      <th>Groceries Index</th>\n      <th>Restaurant Price Index</th>\n      <th>Local Purchasing Power Index</th>\n    </tr>\n  </thead>\n  <tbody>\n    <tr>\n      <th>0</th>\n      <td>Bermuda</td>\n      <td>145.07</td>\n      <td>92.86</td>\n      <td>120.13</td>\n      <td>141.77</td>\n      <td>157.70</td>\n      <td>83.43</td>\n    </tr>\n    <tr>\n      <th>1</th>\n      <td>Switzerland</td>\n      <td>131.75</td>\n      <td>55.05</td>\n      <td>95.10</td>\n      <td>133.36</td>\n      <td>126.08</td>\n      <td>110.96</td>\n    </tr>\n    <tr>\n      <th>2</th>\n      <td>Norway</td>\n      <td>106.09</td>\n      <td>36.18</td>\n      <td>72.68</td>\n      <td>100.59</td>\n      <td>105.90</td>\n      <td>79.43</td>\n    </tr>\n  </tbody>\n</table>\n</div>"
     },
     "metadata": {}
    }
   ],
   "source": [
    "file1 = pd.read_csv('qualityOfLifeIndex.csv').drop(columns=['Rank'])\n",
    "file2 = pd.read_csv('costOfLivingIndex.csv').drop(columns=['Rank'])\n",
    "\n",
    "display(file1.head(3), file2.head(3))"
   ]
  },
  {
   "source": [
    "### _merge appropriately_"
   ],
   "cell_type": "markdown",
   "metadata": {}
  },
  {
   "cell_type": "code",
   "execution_count": 22,
   "metadata": {},
   "outputs": [
    {
     "output_type": "display_data",
     "data": {
      "text/plain": "           Country  Quality of Life Index  Safety Index  Health Care Index  \\\n0     Switzerland                  190.82         78.65              74.47   \n1         Denmark                  190.01         73.28              79.96   \n2     Netherlands                  183.31         72.78              75.76   \n3         Finland                  182.79         72.99              76.40   \n4         Austria                  182.37         74.77              78.40   \n..             ...                    ...           ...                ...   \n133        Zambia                    0.00          0.00               0.00   \n134    Uzbekistan                    0.00          0.00               0.00   \n135   Afghanistan                    0.00          0.00               0.00   \n136    Kyrgyzstan                    0.00          0.00               0.00   \n137         Libya                    0.00          0.00               0.00   \n\n     Property Price to Income Ratio  Traffic Commute Time Index  \\\n0                              8.42                       28.73   \n1                              6.66                       28.69   \n2                              7.35                       27.81   \n3                              8.64                       28.96   \n4                             10.40                       25.68   \n..                              ...                         ...   \n133                            0.00                        0.00   \n134                            0.00                        0.00   \n135                            0.00                        0.00   \n136                            0.00                        0.00   \n137                            0.00                        0.00   \n\n     Pollution Index  Climate Index  Cost of Living Index  Rent Index  \\\n0              20.09          80.05                131.75       55.05   \n1              20.40          81.80                 91.67       36.18   \n2              25.28          87.11                 78.64       39.31   \n3              11.86          56.64                 77.46       28.04   \n4              19.20          77.79                 75.49       28.42   \n..               ...            ...                   ...         ...   \n133             0.00           0.00                 28.06        6.75   \n134             0.00           0.00                 27.12        8.06   \n135             0.00           0.00                 26.33        3.85   \n136             0.00           0.00                 22.98        7.43   \n137             0.00           0.00                 22.32        5.68   \n\n     Groceries Index  Restaurant Price Index  Local Purchasing Power Index  \n0             133.36                  126.08                        110.96  \n1              72.62                  104.92                         94.73  \n2              61.63                   81.62                         83.89  \n3              65.60                   81.22                         89.05  \n4              67.62                   70.98                         78.23  \n..               ...                     ...                           ...  \n133            27.12                   16.18                         59.47  \n134            23.91                   21.43                         21.96  \n135            19.30                   16.98                         26.58  \n136            20.57                   19.19                         22.01  \n137            25.30                   13.31                         31.81  \n\n[138 rows x 13 columns]",
      "text/html": "<div>\n<style scoped>\n    .dataframe tbody tr th:only-of-type {\n        vertical-align: middle;\n    }\n\n    .dataframe tbody tr th {\n        vertical-align: top;\n    }\n\n    .dataframe thead th {\n        text-align: right;\n    }\n</style>\n<table border=\"1\" class=\"dataframe\">\n  <thead>\n    <tr style=\"text-align: right;\">\n      <th></th>\n      <th>Country</th>\n      <th>Quality of Life Index</th>\n      <th>Safety Index</th>\n      <th>Health Care Index</th>\n      <th>Property Price to Income Ratio</th>\n      <th>Traffic Commute Time Index</th>\n      <th>Pollution Index</th>\n      <th>Climate Index</th>\n      <th>Cost of Living Index</th>\n      <th>Rent Index</th>\n      <th>Groceries Index</th>\n      <th>Restaurant Price Index</th>\n      <th>Local Purchasing Power Index</th>\n    </tr>\n  </thead>\n  <tbody>\n    <tr>\n      <th>0</th>\n      <td>Switzerland</td>\n      <td>190.82</td>\n      <td>78.65</td>\n      <td>74.47</td>\n      <td>8.42</td>\n      <td>28.73</td>\n      <td>20.09</td>\n      <td>80.05</td>\n      <td>131.75</td>\n      <td>55.05</td>\n      <td>133.36</td>\n      <td>126.08</td>\n      <td>110.96</td>\n    </tr>\n    <tr>\n      <th>1</th>\n      <td>Denmark</td>\n      <td>190.01</td>\n      <td>73.28</td>\n      <td>79.96</td>\n      <td>6.66</td>\n      <td>28.69</td>\n      <td>20.40</td>\n      <td>81.80</td>\n      <td>91.67</td>\n      <td>36.18</td>\n      <td>72.62</td>\n      <td>104.92</td>\n      <td>94.73</td>\n    </tr>\n    <tr>\n      <th>2</th>\n      <td>Netherlands</td>\n      <td>183.31</td>\n      <td>72.78</td>\n      <td>75.76</td>\n      <td>7.35</td>\n      <td>27.81</td>\n      <td>25.28</td>\n      <td>87.11</td>\n      <td>78.64</td>\n      <td>39.31</td>\n      <td>61.63</td>\n      <td>81.62</td>\n      <td>83.89</td>\n    </tr>\n    <tr>\n      <th>3</th>\n      <td>Finland</td>\n      <td>182.79</td>\n      <td>72.99</td>\n      <td>76.40</td>\n      <td>8.64</td>\n      <td>28.96</td>\n      <td>11.86</td>\n      <td>56.64</td>\n      <td>77.46</td>\n      <td>28.04</td>\n      <td>65.60</td>\n      <td>81.22</td>\n      <td>89.05</td>\n    </tr>\n    <tr>\n      <th>4</th>\n      <td>Austria</td>\n      <td>182.37</td>\n      <td>74.77</td>\n      <td>78.40</td>\n      <td>10.40</td>\n      <td>25.68</td>\n      <td>19.20</td>\n      <td>77.79</td>\n      <td>75.49</td>\n      <td>28.42</td>\n      <td>67.62</td>\n      <td>70.98</td>\n      <td>78.23</td>\n    </tr>\n    <tr>\n      <th>...</th>\n      <td>...</td>\n      <td>...</td>\n      <td>...</td>\n      <td>...</td>\n      <td>...</td>\n      <td>...</td>\n      <td>...</td>\n      <td>...</td>\n      <td>...</td>\n      <td>...</td>\n      <td>...</td>\n      <td>...</td>\n      <td>...</td>\n    </tr>\n    <tr>\n      <th>133</th>\n      <td>Zambia</td>\n      <td>0.00</td>\n      <td>0.00</td>\n      <td>0.00</td>\n      <td>0.00</td>\n      <td>0.00</td>\n      <td>0.00</td>\n      <td>0.00</td>\n      <td>28.06</td>\n      <td>6.75</td>\n      <td>27.12</td>\n      <td>16.18</td>\n      <td>59.47</td>\n    </tr>\n    <tr>\n      <th>134</th>\n      <td>Uzbekistan</td>\n      <td>0.00</td>\n      <td>0.00</td>\n      <td>0.00</td>\n      <td>0.00</td>\n      <td>0.00</td>\n      <td>0.00</td>\n      <td>0.00</td>\n      <td>27.12</td>\n      <td>8.06</td>\n      <td>23.91</td>\n      <td>21.43</td>\n      <td>21.96</td>\n    </tr>\n    <tr>\n      <th>135</th>\n      <td>Afghanistan</td>\n      <td>0.00</td>\n      <td>0.00</td>\n      <td>0.00</td>\n      <td>0.00</td>\n      <td>0.00</td>\n      <td>0.00</td>\n      <td>0.00</td>\n      <td>26.33</td>\n      <td>3.85</td>\n      <td>19.30</td>\n      <td>16.98</td>\n      <td>26.58</td>\n    </tr>\n    <tr>\n      <th>136</th>\n      <td>Kyrgyzstan</td>\n      <td>0.00</td>\n      <td>0.00</td>\n      <td>0.00</td>\n      <td>0.00</td>\n      <td>0.00</td>\n      <td>0.00</td>\n      <td>0.00</td>\n      <td>22.98</td>\n      <td>7.43</td>\n      <td>20.57</td>\n      <td>19.19</td>\n      <td>22.01</td>\n    </tr>\n    <tr>\n      <th>137</th>\n      <td>Libya</td>\n      <td>0.00</td>\n      <td>0.00</td>\n      <td>0.00</td>\n      <td>0.00</td>\n      <td>0.00</td>\n      <td>0.00</td>\n      <td>0.00</td>\n      <td>22.32</td>\n      <td>5.68</td>\n      <td>25.30</td>\n      <td>13.31</td>\n      <td>31.81</td>\n    </tr>\n  </tbody>\n</table>\n<p>138 rows × 13 columns</p>\n</div>"
     },
     "metadata": {}
    }
   ],
   "source": [
    "merged_df = pd.merge(file1.drop(columns = ['Purchasing Power Index', 'Cost of Living Index']), \n",
    "                     file2.drop(columns = ['Cost of Living Plus Rent Index']), \n",
    "                     on=['Country'], \n",
    "                     how='outer'\n",
    "                    ).fillna(0).reset_index(drop=True)\n",
    "\n",
    "display(merged_df)"
   ]
  },
  {
   "source": [
    "_Export as single file_"
   ],
   "cell_type": "markdown",
   "metadata": {}
  },
  {
   "cell_type": "code",
   "execution_count": 23,
   "metadata": {},
   "outputs": [],
   "source": [
    "merged_df.to_csv('costOfLiving_tampered.csv')"
   ]
  },
  {
   "cell_type": "code",
   "execution_count": null,
   "metadata": {},
   "outputs": [],
   "source": []
  }
 ]
}